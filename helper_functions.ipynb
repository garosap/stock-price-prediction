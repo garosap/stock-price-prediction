{
 "cells": [
  {
   "cell_type": "markdown",
   "metadata": {},
   "source": [
    "\n",
    "# Helper Functions\n",
    "\n",
    "This notebook includes helper functions that are imported by other notebooks to perform certain tasks.\n"
   ]
  },
  {
   "cell_type": "code",
   "execution_count": 4,
   "metadata": {},
   "outputs": [],
   "source": [
    "import numpy as np\n",
    "import matplotlib as plt\n",
    "from sklearn.metrics import mean_absolute_percentage_error\n"
   ]
  },
  {
   "cell_type": "markdown",
   "metadata": {},
   "source": [
    "## PredictAndForecast Class Overview\n",
    "\n",
    "The `PredictAndForecast` class leverages a trained machine learning model to generate predictions. It is tailored for time series forecasting, where predictions are based on a sequence of data from both training and testing datasets. The class facilitates the simulation of real-time predictions, reflecting how a model might perform in an operational setting.\n",
    "\n",
    "### Key Functionalities:\n",
    "- **Dynamic Forecasting**: Utilizes historical data to predict future values step-by-step, mimicking real-world forecasting tasks.\n",
    "- **Seamless Integration**: Designed to work smoothly with any trained `tf.keras.Model`, providing flexibility in model choice.\n",
    "\n",
    "### Operational Method:\n",
    "- **Forecast Method**: Projects future values using the model based on the latest available data.\n",
    "- **Prediction Compilation**: Systematically generates and compiles predictions across the test set, building a complete forecast series.\n"
   ]
  },
  {
   "cell_type": "code",
   "execution_count": null,
   "metadata": {},
   "outputs": [],
   "source": [
    "class PredictAndForecast:\n",
    "    \"\"\"\n",
    "    model: tf.keras.Model\n",
    "    train: np.array\n",
    "    test: np.array\n",
    "    Takes a trained model, train, and test datasets and returns predictions\n",
    "    of len(test) with same shape.\n",
    "    \"\"\"\n",
    "    def __init__(self, model, train, test, n_input=5) -> None:\n",
    "        self.model = model\n",
    "        self.train = train\n",
    "        self.test = test\n",
    "        self.n_input = n_input\n",
    "        self.predictions = self.get_predictions()\n",
    "\n",
    "    def forecast(self, history) -> np.array:\n",
    "        \"\"\"\n",
    "        Given last weeks actual data, forecasts next weeks prices.\n",
    "        \"\"\"\n",
    "        # flatten data\n",
    "        data = np.array(history)\n",
    "        data = data.reshape((data.shape[0]*data.shape[1], data.shape[2]))\n",
    "        # retrieve last observations for input data\n",
    "        input_x = data[-self.n_input:, :]\n",
    "        # reshape into [1, n_input, 1]\n",
    "        input_x = input_x.reshape((1, len(input_x), input_x.shape[1]))\n",
    "        # forecast the next week\n",
    "        yhat = self.model.predict(input_x, verbose=0)\n",
    "        # we only want the vector forecast\n",
    "        yhat = yhat[0]\n",
    "        return yhat\n",
    "\n",
    "    def get_predictions(self) -> np.array:\n",
    "        \"\"\"\n",
    "        compiles models predictions week by week over entire\n",
    "        test set.\n",
    "        \"\"\"\n",
    "        # history is a list of weekly data\n",
    "        history = [x for x in self.train]\n",
    "        # walk-forward validation over each week\n",
    "        predictions = []\n",
    "        for i in range(len(self.test)):\n",
    "            yhat_sequence = self.forecast(history)\n",
    "            # store the predictions\n",
    "            predictions.append(yhat_sequence)\n",
    "        # get real observation and add to history for predicting the next week\n",
    "            history.append(self.test[i, :])\n",
    "        return np.array(predictions)"
   ]
  },
  {
   "cell_type": "markdown",
   "metadata": {},
   "source": [
    "## Evaluate Class Overview\n",
    "\n",
    "The `Evaluate` class is designed to quantify the performance of forecasting models using standard statistical metrics. It provides a straightforward approach to measure how closely predictions align with actual outcomes, offering insights into model accuracy and reliability.\n",
    "\n",
    "### Key Functionalities:\n",
    "- **Accuracy Assessment**: Evaluates model predictions using metrics like variance ratio and Mean Absolute Percentage Error (MAPE).\n",
    "- **Model Performance Insight**: Delivers critical data on the effectiveness of the model in capturing and replicating the underlying data patterns.\n",
    "\n",
    "### Operational Methods:\n",
    "- **Variance Ratio Calculation**: Assesses how well the model predictions capture the variability of the actual data.\n",
    "- **MAPE Calculation**: Measures the average percentage error between the model's predictions and the actual data, offering a clear view of model precision.\n"
   ]
  },
  {
   "cell_type": "code",
   "execution_count": null,
   "metadata": {},
   "outputs": [],
   "source": [
    "class Evaluate:\n",
    "\n",
    "  def __init__(self, actual, predictions) -> None:\n",
    "    self.actual = actual\n",
    "    self.predictions = predictions\n",
    "    self.var_ratio = self.compare_var()\n",
    "    self.mape = self.evaluate_model_with_mape()\n",
    "\n",
    "  def compare_var(self):\n",
    "    return abs( 1 - (np.var(self.predictions) / np.var(self.actual)))\n",
    "\n",
    "  def evaluate_model_with_mape(self):\n",
    "    return mean_absolute_percentage_error(self.actual.flatten(), self.predictions.flatten())"
   ]
  },
  {
   "cell_type": "markdown",
   "metadata": {},
   "source": [
    "## Visualization Function\n",
    "\n",
    "This function visualizes the actual and predicted values of the timeseries over time, to provide a clear comparison between the two. It is used to evaluate the performance of the forecasting model visually."
   ]
  },
  {
   "cell_type": "code",
   "execution_count": 5,
   "metadata": {},
   "outputs": [],
   "source": [
    "def plot_results(test, preds, df, image_path=None, title_suffix=None, xlabel='AAPL stock Price'):\n",
    "  \"\"\"\n",
    "  Plots training data in blue, actual values in red, and predictions in green,\n",
    "  over time.\n",
    "  \"\"\"\n",
    "  fig, ax = plt.subplots(figsize=(20,6))\n",
    "  # x = df.Close[-498:].index\n",
    "  plot_test = test[1:]\n",
    "  plot_preds = preds[1:]\n",
    "  # plot_test = np.array(plot_test)\n",
    "\n",
    "  x = df[-(plot_test.shape[0]*plot_test.shape[1]):].index.to_numpy()\n",
    "  plot_test = plot_test.reshape((plot_test.shape[0]*plot_test.shape[1], 1))\n",
    "  plot_preds = plot_preds.reshape((plot_test.shape[0]*plot_test.shape[1], 1))\n",
    "  ax.plot(x, plot_test, label='actual')\n",
    "  ax.plot(x, plot_preds, label='preds')\n",
    "  if title_suffix==None:\n",
    "    ax.set_title('Predictions vs. Actual')\n",
    "  else:\n",
    "    ax.set_title(f'Predictions vs. Actual, {title_suffix}')\n",
    "  ax.set_xlabel('Date')\n",
    "  ax.set_ylabel(xlabel)\n",
    "  ax.legend()\n",
    "  plt.show()"
   ]
  }
 ],
 "metadata": {
  "kernelspec": {
   "display_name": "Python 3",
   "language": "python",
   "name": "python3"
  },
  "language_info": {
   "codemirror_mode": {
    "name": "ipython",
    "version": 3
   },
   "file_extension": ".py",
   "mimetype": "text/x-python",
   "name": "python",
   "nbconvert_exporter": "python",
   "pygments_lexer": "ipython3",
   "version": "3.8.10"
  }
 },
 "nbformat": 4,
 "nbformat_minor": 2
}
